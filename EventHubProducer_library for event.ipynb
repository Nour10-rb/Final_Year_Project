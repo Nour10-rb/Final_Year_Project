{
 "cells": [
  {
   "cell_type": "code",
   "execution_count": 0,
   "metadata": {
    "application/vnd.databricks.v1+cell": {
     "cellMetadata": {
      "byteLimit": 2048000,
      "rowLimit": 10000
     },
     "inputWidgets": {},
     "nuid": "a43d1b56-7fd7-42a1-ad62-3a0de1ca7705",
     "showTitle": false,
     "title": ""
    },
    "id": "9Z0vZsjXgVHA"
   },
   "outputs": [],
   "source": [
    "from azure.eventhub.aio import EventHubProducerClient  # The package name suffixed with \".aio\" for async\n",
    "from azure.eventhub import EventData\n",
    "import pandas as pd\n",
    "import json\n",
    "import asyncio\n",
    "import time\n",
    "import nest_asyncio\n",
    "nest_asyncio.apply()"
   ]
  },
  {
   "cell_type": "code",
   "execution_count": 0,
   "metadata": {
    "application/vnd.databricks.v1+cell": {
     "cellMetadata": {
      "byteLimit": 2048000,
      "rowLimit": 10000
     },
     "inputWidgets": {},
     "nuid": "d9730b53-ab37-4b75-9bf9-a8e2b6d6adbd",
     "showTitle": false,
     "title": ""
    }
   },
   "outputs": [],
   "source": [
    "# Load Packages\n",
    "import numpy as np\n",
    "import pandas as pd\n",
    "\n",
    "import matplotlib.pyplot as plt\n",
    "%matplotlib inline\n",
    "import yfinance as yf\n",
    "yf.pdr_override()\n",
    "from pandas_datareader import data as pdr\n",
    "#import fix_yahoo_finance as yf"
   ]
  },
  {
   "cell_type": "markdown",
   "metadata": {
    "application/vnd.databricks.v1+cell": {
     "cellMetadata": {
      "byteLimit": 2048000,
      "rowLimit": 10000
     },
     "inputWidgets": {},
     "nuid": "436bbf5b-5aaf-463b-8a5e-a9a13955e714",
     "showTitle": false,
     "title": ""
    }
   },
   "source": [
    "revenues de chaque cours \n"
   ]
  },
  {
   "cell_type": "markdown",
   "metadata": {
    "application/vnd.databricks.v1+cell": {
     "cellMetadata": {
      "byteLimit": 2048000,
      "rowLimit": 10000
     },
     "inputWidgets": {},
     "nuid": "9b54e486-a43d-4eeb-b7d1-4a777bc730f9",
     "showTitle": false,
     "title": ""
    }
   },
   "source": [
    "df.display()"
   ]
  },
  {
   "cell_type": "markdown",
   "metadata": {
    "application/vnd.databricks.v1+cell": {
     "cellMetadata": {
      "byteLimit": 2048000,
      "rowLimit": 10000
     },
     "inputWidgets": {},
     "nuid": "1ec509f9-9a9f-4f4f-a9cf-623d71c49474",
     "showTitle": false,
     "title": ""
    }
   },
   "source": [
    "les données en streaming"
   ]
  },
  {
   "cell_type": "code",
   "execution_count": 0,
   "metadata": {
    "application/vnd.databricks.v1+cell": {
     "cellMetadata": {
      "byteLimit": 2048000,
      "rowLimit": 10000
     },
     "inputWidgets": {},
     "nuid": "382de01a-da44-4cf0-bb7c-124c6b22c9af",
     "showTitle": false,
     "title": ""
    }
   },
   "outputs": [
    {
     "output_type": "stream",
     "name": "stdout",
     "output_type": "stream",
     "text": [
      "\r[*********************100%***********************]  1 of 1 completed\n\r[*********************100%***********************]  1 of 1 completed\n\r[*********************100%***********************]  1 of 1 completed\n\r[*********************100%***********************]  1 of 1 completed\n\r[*********************100%***********************]  1 of 1 completed\n\r[*********************100%***********************]  1 of 1 completed\n"
     ]
    }
   ],
   "source": [
    "tech_list = ['AAPL', 'GOOG', 'MSFT', 'AMZN','AAL' , 'ICE']\n",
    "for stock in tech_list:\n",
    "    globals()[stock] = yf.download(stock, start=\"2023-04-08\", end=\"2023-04-11\")\n",
    "    \n",
    "#Quick note: Using globals() is a sloppy way of setting the DataFrame names, but it's simple. Now we have our data, let's perform some basic data analysis and check our data.\n",
    "company_list = [AAPL, GOOG, MSFT, AMZN, AAL , ICE]\n",
    "company_name = [\"AAPL\", \"GOOG\", \"MSFT\", \"AMZN\",\"AAL\" , \"ICE\"]\n",
    "\n",
    "for company, com_name in zip(company_list, company_name):\n",
    "    company[\"company_name\"] = com_name\n",
    "    \n",
    "df1 = pd.concat(company_list, axis=0)"
   ]
  },
  {
   "cell_type": "code",
   "execution_count": 0,
   "metadata": {
    "application/vnd.databricks.v1+cell": {
     "cellMetadata": {
      "byteLimit": 2048000,
      "rowLimit": 10000
     },
     "inputWidgets": {},
     "nuid": "73d88d72-8a09-497b-881b-2bd3adb31ce7",
     "showTitle": false,
     "title": ""
    },
    "colab": {
     "base_uri": "https://localhost:8080/"
    },
    "id": "WP-QE0fVnQCe",
    "outputId": "13b7f3ca-f621-4ffb-d228-f5d4b29802a9"
   },
   "outputs": [],
   "source": [
    "df1= df1.reset_index()"
   ]
  },
  {
   "cell_type": "code",
   "execution_count": 0,
   "metadata": {
    "application/vnd.databricks.v1+cell": {
     "cellMetadata": {
      "byteLimit": 2048000,
      "rowLimit": 10000
     },
     "inputWidgets": {},
     "nuid": "cc7de030-4444-4a6f-a925-322db77a542d",
     "showTitle": false,
     "title": ""
    },
    "id": "ztnPBzRYgurQ"
   },
   "outputs": [],
   "source": [
    "def getclaims(data):\n",
    "  json_data=json.loads(data.to_json(orient=\"records\"))\n",
    "  return json_data\n"
   ]
  },
  {
   "cell_type": "code",
   "execution_count": 0,
   "metadata": {
    "application/vnd.databricks.v1+cell": {
     "cellMetadata": {
      "byteLimit": 2048000,
      "rowLimit": 10000
     },
     "inputWidgets": {},
     "nuid": "84cad4a1-38b6-4969-ba2b-8aecb2338ed7",
     "showTitle": false,
     "title": ""
    }
   },
   "outputs": [],
   "source": [
    "# Assuming your DataFrame is called 'df' and the column name is 'timestamp_column'\n",
    "df1['Date'] = df1['Date'].dt.strftime('%Y%m%d')"
   ]
  },
  {
   "cell_type": "code",
   "execution_count": 0,
   "metadata": {
    "application/vnd.databricks.v1+cell": {
     "cellMetadata": {
      "byteLimit": 2048000,
      "rowLimit": 10000
     },
     "inputWidgets": {},
     "nuid": "bdefe177-42da-4097-afe2-a2488ac7e1e6",
     "showTitle": false,
     "title": ""
    }
   },
   "outputs": [
    {
     "output_type": "display_data",
     "data": {
      "text/html": [
       "<div>\n",
       "<style scoped>\n",
       "    .dataframe tbody tr th:only-of-type {\n",
       "        vertical-align: middle;\n",
       "    }\n",
       "\n",
       "    .dataframe tbody tr th {\n",
       "        vertical-align: top;\n",
       "    }\n",
       "\n",
       "    .dataframe thead th {\n",
       "        text-align: right;\n",
       "    }\n",
       "</style>\n",
       "<table border=\"1\" class=\"dataframe\">\n",
       "  <thead>\n",
       "    <tr style=\"text-align: right;\">\n",
       "      <th></th>\n",
       "      <th>Date</th>\n",
       "      <th>Open</th>\n",
       "      <th>High</th>\n",
       "      <th>Low</th>\n",
       "      <th>Close</th>\n",
       "      <th>Adj Close</th>\n",
       "      <th>Volume</th>\n",
       "      <th>company_name</th>\n",
       "    </tr>\n",
       "  </thead>\n",
       "  <tbody>\n",
       "    <tr>\n",
       "      <th>0</th>\n",
       "      <td>20230410</td>\n",
       "      <td>161.419998</td>\n",
       "      <td>162.029999</td>\n",
       "      <td>160.080002</td>\n",
       "      <td>162.029999</td>\n",
       "      <td>161.806183</td>\n",
       "      <td>47716900</td>\n",
       "      <td>AAPL</td>\n",
       "    </tr>\n",
       "    <tr>\n",
       "      <th>1</th>\n",
       "      <td>20230410</td>\n",
       "      <td>107.389999</td>\n",
       "      <td>107.970001</td>\n",
       "      <td>105.599998</td>\n",
       "      <td>106.949997</td>\n",
       "      <td>106.949997</td>\n",
       "      <td>19741500</td>\n",
       "      <td>GOOG</td>\n",
       "    </tr>\n",
       "    <tr>\n",
       "      <th>2</th>\n",
       "      <td>20230410</td>\n",
       "      <td>289.209991</td>\n",
       "      <td>289.600006</td>\n",
       "      <td>284.709991</td>\n",
       "      <td>289.390015</td>\n",
       "      <td>288.758759</td>\n",
       "      <td>23103000</td>\n",
       "      <td>MSFT</td>\n",
       "    </tr>\n",
       "    <tr>\n",
       "      <th>3</th>\n",
       "      <td>20230410</td>\n",
       "      <td>100.959999</td>\n",
       "      <td>102.199997</td>\n",
       "      <td>99.570000</td>\n",
       "      <td>102.169998</td>\n",
       "      <td>102.169998</td>\n",
       "      <td>37261200</td>\n",
       "      <td>AMZN</td>\n",
       "    </tr>\n",
       "    <tr>\n",
       "      <th>4</th>\n",
       "      <td>20230410</td>\n",
       "      <td>13.980000</td>\n",
       "      <td>14.170000</td>\n",
       "      <td>13.910000</td>\n",
       "      <td>14.150000</td>\n",
       "      <td>14.150000</td>\n",
       "      <td>18832300</td>\n",
       "      <td>AAL</td>\n",
       "    </tr>\n",
       "    <tr>\n",
       "      <th>5</th>\n",
       "      <td>20230410</td>\n",
       "      <td>107.529999</td>\n",
       "      <td>107.760002</td>\n",
       "      <td>105.739998</td>\n",
       "      <td>106.379997</td>\n",
       "      <td>106.379997</td>\n",
       "      <td>1780900</td>\n",
       "      <td>ICE</td>\n",
       "    </tr>\n",
       "  </tbody>\n",
       "</table>\n",
       "</div>"
      ]
     },
     "metadata": {
      "application/vnd.databricks.v1+output": {
       "addedWidgets": {},
       "arguments": {},
       "data": "<div>\n<style scoped>\n    .dataframe tbody tr th:only-of-type {\n        vertical-align: middle;\n    }\n\n    .dataframe tbody tr th {\n        vertical-align: top;\n    }\n\n    .dataframe thead th {\n        text-align: right;\n    }\n</style>\n<table border=\"1\" class=\"dataframe\">\n  <thead>\n    <tr style=\"text-align: right;\">\n      <th></th>\n      <th>Date</th>\n      <th>Open</th>\n      <th>High</th>\n      <th>Low</th>\n      <th>Close</th>\n      <th>Adj Close</th>\n      <th>Volume</th>\n      <th>company_name</th>\n    </tr>\n  </thead>\n  <tbody>\n    <tr>\n      <th>0</th>\n      <td>20230410</td>\n      <td>161.419998</td>\n      <td>162.029999</td>\n      <td>160.080002</td>\n      <td>162.029999</td>\n      <td>161.806183</td>\n      <td>47716900</td>\n      <td>AAPL</td>\n    </tr>\n    <tr>\n      <th>1</th>\n      <td>20230410</td>\n      <td>107.389999</td>\n      <td>107.970001</td>\n      <td>105.599998</td>\n      <td>106.949997</td>\n      <td>106.949997</td>\n      <td>19741500</td>\n      <td>GOOG</td>\n    </tr>\n    <tr>\n      <th>2</th>\n      <td>20230410</td>\n      <td>289.209991</td>\n      <td>289.600006</td>\n      <td>284.709991</td>\n      <td>289.390015</td>\n      <td>288.758759</td>\n      <td>23103000</td>\n      <td>MSFT</td>\n    </tr>\n    <tr>\n      <th>3</th>\n      <td>20230410</td>\n      <td>100.959999</td>\n      <td>102.199997</td>\n      <td>99.570000</td>\n      <td>102.169998</td>\n      <td>102.169998</td>\n      <td>37261200</td>\n      <td>AMZN</td>\n    </tr>\n    <tr>\n      <th>4</th>\n      <td>20230410</td>\n      <td>13.980000</td>\n      <td>14.170000</td>\n      <td>13.910000</td>\n      <td>14.150000</td>\n      <td>14.150000</td>\n      <td>18832300</td>\n      <td>AAL</td>\n    </tr>\n    <tr>\n      <th>5</th>\n      <td>20230410</td>\n      <td>107.529999</td>\n      <td>107.760002</td>\n      <td>105.739998</td>\n      <td>106.379997</td>\n      <td>106.379997</td>\n      <td>1780900</td>\n      <td>ICE</td>\n    </tr>\n  </tbody>\n</table>\n</div>",
       "datasetInfos": [],
       "metadata": {},
       "removedWidgets": [],
       "textData": null,
       "type": "htmlSandbox"
      }
     },
     "output_type": "display_data"
    }
   ],
   "source": [
    "df1"
   ]
  },
  {
   "cell_type": "code",
   "execution_count": 0,
   "metadata": {
    "application/vnd.databricks.v1+cell": {
     "cellMetadata": {
      "byteLimit": 2048000,
      "rowLimit": 10000
     },
     "inputWidgets": {},
     "nuid": "42cf1bc9-af60-44db-bd75-39880dd03962",
     "showTitle": false,
     "title": ""
    }
   },
   "outputs": [
    {
     "output_type": "stream",
     "name": "stdout",
     "output_type": "stream",
     "text": [
      "Out[26]: [{'Date': '20230410',\n  'Open': 161.4199981689,\n  'High': 162.0299987793,\n  'Low': 160.0800018311,\n  'Close': 162.0299987793,\n  'Adj Close': 161.8061828613,\n  'Volume': 47716900,\n  'company_name': 'AAPL'},\n {'Date': '20230410',\n  'Open': 107.3899993896,\n  'High': 107.9700012207,\n  'Low': 105.5999984741,\n  'Close': 106.9499969482,\n  'Adj Close': 106.9499969482,\n  'Volume': 19741500,\n  'company_name': 'GOOG'},\n {'Date': '20230410',\n  'Open': 289.2099914551,\n  'High': 289.6000061035,\n  'Low': 284.7099914551,\n  'Close': 289.3900146484,\n  'Adj Close': 288.7587585449,\n  'Volume': 23103000,\n  'company_name': 'MSFT'},\n {'Date': '20230410',\n  'Open': 100.9599990845,\n  'High': 102.1999969482,\n  'Low': 99.5699996948,\n  'Close': 102.1699981689,\n  'Adj Close': 102.1699981689,\n  'Volume': 37261200,\n  'company_name': 'AMZN'},\n {'Date': '20230410',\n  'Open': 13.9799995422,\n  'High': 14.1700000763,\n  'Low': 13.9099998474,\n  'Close': 14.1499996185,\n  'Adj Close': 14.1499996185,\n  'Volume': 18832300,\n  'company_name': 'AAL'},\n {'Date': '20230410',\n  'Open': 107.5299987793,\n  'High': 107.7600021362,\n  'Low': 105.7399978638,\n  'Close': 106.3799972534,\n  'Adj Close': 106.3799972534,\n  'Volume': 1780900,\n  'company_name': 'ICE'}]"
     ]
    }
   ],
   "source": [
    "getclaims(df1)"
   ]
  },
  {
   "cell_type": "code",
   "execution_count": 0,
   "metadata": {
    "application/vnd.databricks.v1+cell": {
     "cellMetadata": {
      "byteLimit": 2048000,
      "rowLimit": 10000
     },
     "inputWidgets": {},
     "nuid": "b9da0152-1605-4c18-8218-663d57e938a5",
     "showTitle": false,
     "title": ""
    },
    "id": "I4ONCJGwgYmJ"
   },
   "outputs": [],
   "source": [
    "#Configurations to send data to eventhub\n",
    "connection_str = 'Endpoint=sb://evenetstream.servicebus.windows.net/;SharedAccessKeyName=streamdata;SharedAccessKey=Hfd1AYOfca/hX5J7/EbtPcTySlWOUFesH+AEhK64OQY=;EntityPath=eventhub1'\n",
    "eventhub_name = 'eventhub1'"
   ]
  },
  {
   "cell_type": "code",
   "execution_count": 0,
   "metadata": {
    "application/vnd.databricks.v1+cell": {
     "cellMetadata": {
      "byteLimit": 2048000,
      "rowLimit": 10000
     },
     "inputWidgets": {},
     "nuid": "dad64d90-871c-4f5a-8db7-43802d6eea57",
     "showTitle": false,
     "title": ""
    },
    "id": "6hyqXRmmgo5p"
   },
   "outputs": [],
   "source": [
    "async def send_event_data_batch(producer,data):\n",
    "    # Without specifying partition_id or partition_key\n",
    "    # the events will be distributed to available partitions via round-robin.\n",
    "    event_data_batch = await producer.create_batch()\n",
    "    event_data_batch.add(EventData(data))\n",
    "    await producer.send_batch(event_data_batch)"
   ]
  },
  {
   "cell_type": "code",
   "execution_count": 0,
   "metadata": {
    "application/vnd.databricks.v1+cell": {
     "cellMetadata": {
      "byteLimit": 2048000,
      "rowLimit": 10000
     },
     "inputWidgets": {},
     "nuid": "8b3cf583-3985-402a-8466-d0a09afd79d0",
     "showTitle": false,
     "title": ""
    },
    "id": "UPgXK2PJv-2m"
   },
   "outputs": [],
   "source": [
    "import time\n",
    "async def run():\n",
    "\n",
    "    producer = EventHubProducerClient.from_connection_string(connection_str, eventhub_name=eventhub_name)\n",
    "    async with producer:\n",
    "          for claim in getclaims(df1):\n",
    "            time.sleep(2)\n",
    "            await send_event_data_batch(producer,json.dumps(claim))\n",
    "            print(claim)"
   ]
  },
  {
   "cell_type": "code",
   "execution_count": 0,
   "metadata": {
    "application/vnd.databricks.v1+cell": {
     "cellMetadata": {
      "byteLimit": 2048000,
      "rowLimit": 10000
     },
     "inputWidgets": {},
     "nuid": "97af8e84-b236-4b04-baa3-bc771cf3ade8",
     "showTitle": false,
     "title": ""
    },
    "colab": {
     "base_uri": "https://localhost:8080/",
     "height": 1000
    },
    "id": "fhkdrI6XsnAp",
    "outputId": "9fe65253-85f2-468b-a707-e6931ea29979"
   },
   "outputs": [
    {
     "output_type": "stream",
     "name": "stdout",
     "output_type": "stream",
     "text": [
      "{'Date': '20230410', 'Open': 161.4199981689, 'High': 162.0299987793, 'Low': 160.0800018311, 'Close': 162.0299987793, 'Adj Close': 161.8061828613, 'Volume': 47716900, 'company_name': 'AAPL'}\n{'Date': '20230410', 'Open': 107.3899993896, 'High': 107.9700012207, 'Low': 105.5999984741, 'Close': 106.9499969482, 'Adj Close': 106.9499969482, 'Volume': 19741500, 'company_name': 'GOOG'}\n{'Date': '20230410', 'Open': 289.2099914551, 'High': 289.6000061035, 'Low': 284.7099914551, 'Close': 289.3900146484, 'Adj Close': 288.7587585449, 'Volume': 23103000, 'company_name': 'MSFT'}\n{'Date': '20230410', 'Open': 100.9599990845, 'High': 102.1999969482, 'Low': 99.5699996948, 'Close': 102.1699981689, 'Adj Close': 102.1699981689, 'Volume': 37261200, 'company_name': 'AMZN'}\n{'Date': '20230410', 'Open': 13.9799995422, 'High': 14.1700000763, 'Low': 13.9099998474, 'Close': 14.1499996185, 'Adj Close': 14.1499996185, 'Volume': 18832300, 'company_name': 'AAL'}\n{'Date': '20230410', 'Open': 107.5299987793, 'High': 107.7600021362, 'Low': 105.7399978638, 'Close': 106.3799972534, 'Adj Close': 106.3799972534, 'Volume': 1780900, 'company_name': 'ICE'}\nSend messages in 14.991652965545654 seconds.\n"
     ]
    }
   ],
   "source": [
    "loop = asyncio.get_event_loop()\n",
    "start_time = time.time()\n",
    "loop.run_until_complete(run())\n",
    "print(\"Send messages in {} seconds.\".format(time.time() - start_time))\n"
   ]
  },
  {
   "cell_type": "code",
   "execution_count": 0,
   "metadata": {
    "application/vnd.databricks.v1+cell": {
     "cellMetadata": {
      "byteLimit": 2048000,
      "rowLimit": 10000
     },
     "inputWidgets": {},
     "nuid": "419a74be-124c-4498-b6ea-f5d6b8d0f529",
     "showTitle": false,
     "title": ""
    }
   },
   "outputs": [],
   "source": []
  }
 ],
 "metadata": {
  "application/vnd.databricks.v1+notebook": {
   "dashboards": [],
   "environmentMetadata": null,
   "language": "python",
   "notebookMetadata": {
    "pythonIndentUnit": 4
   },
   "notebookName": "EventHubProducer:library for event",
   "widgets": {}
  },
  "colab": {
   "provenance": []
  },
  "kernelspec": {
   "display_name": "Python 3",
   "name": "python3"
  }
 },
 "nbformat": 4,
 "nbformat_minor": 0
}

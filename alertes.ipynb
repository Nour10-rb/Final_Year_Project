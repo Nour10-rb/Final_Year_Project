{
 "cells": [
  {
   "cell_type": "code",
   "execution_count": 0,
   "metadata": {
    "application/vnd.databricks.v1+cell": {
     "cellMetadata": {
      "byteLimit": 2048000,
      "rowLimit": 10000
     },
     "inputWidgets": {},
     "nuid": "db5fcbbe-16fe-461c-a6b2-bbeff2ba9ac8",
     "showTitle": false,
     "title": ""
    }
   },
   "outputs": [
    {
     "output_type": "stream",
     "name": "stdout",
     "output_type": "stream",
     "text": [
      "Email sent successfully.\n"
     ]
    }
   ],
   "source": [
    "import smtplib\n",
    "from email.mime.text import MIMEText\n",
    "from email.mime.multipart import MIMEMultipart\n",
    "\n",
    "# Email configurations\n",
    "smtp_server = 'smtp.gmail.com'\n",
    "smtp_port = 587\n",
    "sender_email ='nourhenerbei123@gmail.com'\n",
    "sender_password = 'zkbiqcrfgxnzfqdw'\n",
    "receiver_email = 'nourhene.rbei@etudiant-fst.utm.tn'\n",
    "subject = 'Changement significatif du prix du titre demain'\n",
    "message = '''Cher utilisateur,\n",
    "\n",
    "Nous tenons à vous informer qu'un changement significatif est prévu dans le prix du titre que vous suivez pour demain.\n",
    "Nous vous recommandons de suivre de près ces développements et de prendre les mesures appropriées en fonction de vos objectifs financiers et de votre stratégie d'investissement.\n",
    "\n",
    "Veuillez noter que cette notification est envoyée automatiquement dès qu'un changement significatif est détecté dans le prix du titre que vous suivez. Nous faisons de notre mieux pour vous tenir informé en temps réel afin que vous puissiez prendre des décisions éclairées.\n",
    "\n",
    "Cordialement,\n",
    "Votre équipe de suivi des marchés financiers'''\n",
    "\n",
    "# Create a MIME message\n",
    "msg = MIMEMultipart()\n",
    "msg['From'] = sender_email\n",
    "msg['To'] = receiver_email\n",
    "msg['Subject'] = subject\n",
    "\n",
    "# Attach the message to the email\n",
    "msg.attach(MIMEText(message, 'plain'))\n",
    "\n",
    "# Connect to the SMTP server\n",
    "server = smtplib.SMTP(smtp_server, smtp_port)\n",
    "server.starttls()\n",
    "\n",
    "# Login to the sender's email account\n",
    "server.login(sender_email, sender_password)\n",
    "\n",
    "# Send the email\n",
    "server.sendmail(sender_email, receiver_email, msg.as_string())\n",
    "\n",
    "# Disconnect from the SMTP server\n",
    "server.quit()\n",
    "\n",
    "print('Email sent successfully.')\n"
   ]
  },
  {
   "cell_type": "code",
   "execution_count": 0,
   "metadata": {
    "application/vnd.databricks.v1+cell": {
     "cellMetadata": {
      "byteLimit": 2048000,
      "rowLimit": 10000
     },
     "inputWidgets": {},
     "nuid": "09660c01-cb12-475c-ab04-94a8fb1849a3",
     "showTitle": false,
     "title": ""
    }
   },
   "outputs": [
    {
     "output_type": "stream",
     "name": "stdout",
     "output_type": "stream",
     "text": [
      "Failed to send SMS alert.\n"
     ]
    }
   ],
   "source": [
    "import requests\n",
    "\n",
    "# Twilio account credentials\n",
    "account_sid = 'AC05806a8edcbc8829106ebbeec97c2e7e'\n",
    "auth_token = '59a0ea2724a57fbcd5fe872af79c8922'\n",
    "twilio_number = '+21625235500'\n",
    "\n",
    "# Recipient's phone number\n",
    "recipient_number = '+21622033339'\n",
    "\n",
    "# SMS content\n",
    "message = 'This is an alert message!'\n",
    "\n",
    "# Twilio API endpoint\n",
    "url = f'https://api.twilio.com/2010-04-01/Accounts/{account_sid}/Messages.json'\n",
    "\n",
    "# Construct the request payload\n",
    "payload = {\n",
    "    'From': twilio_number,\n",
    "    'To': recipient_number,\n",
    "    'Body': message\n",
    "}\n",
    "\n",
    "# Send the API request\n",
    "response = requests.post(url, auth=(account_sid, auth_token), data=payload)\n",
    "\n",
    "# Check the response status\n",
    "if response.status_code == 201:\n",
    "    print('SMS alert sent successfully.')\n",
    "else:\n",
    "    print('Failed to send SMS alert.')\n",
    "\n"
   ]
  },
  {
   "cell_type": "code",
   "execution_count": 0,
   "metadata": {
    "application/vnd.databricks.v1+cell": {
     "cellMetadata": {
      "byteLimit": 2048000,
      "rowLimit": 10000
     },
     "inputWidgets": {},
     "nuid": "06c06ca5-b7f7-4cb7-9c19-07f92050fa0d",
     "showTitle": false,
     "title": ""
    }
   },
   "outputs": [],
   "source": []
  }
 ],
 "metadata": {
  "application/vnd.databricks.v1+notebook": {
   "dashboards": [],
   "environmentMetadata": null,
   "language": "python",
   "notebookMetadata": {
    "mostRecentlyExecutedCommandWithImplicitDF": {
     "commandId": 1181500322443077,
     "dataframes": [
      "_sqldf"
     ]
    },
    "pythonIndentUnit": 4
   },
   "notebookName": "alertes",
   "widgets": {}
  }
 },
 "nbformat": 4,
 "nbformat_minor": 0
}
